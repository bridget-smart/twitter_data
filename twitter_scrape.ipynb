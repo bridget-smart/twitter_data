{
 "cells": [
  {
   "cell_type": "markdown",
   "source": [
    "- file path\n",
    "- only 71 tweets"
   ],
   "metadata": {}
  },
  {
   "cell_type": "code",
   "execution_count": 2,
   "source": [
    "import tweepy\n",
    "import datetime\n",
    "import json\n",
    "import sys"
   ],
   "outputs": [],
   "metadata": {}
  },
  {
   "cell_type": "code",
   "execution_count": 3,
   "source": [
    "API_key_secret = ...\n",
    "API_key = ...\n",
    "access_token = ...\n",
    "access_token_secret = ...\n",
    "\n",
    "auth = tweepy.OAuthHandler(API_key, API_key_secret)\n",
    "auth.set_access_token(access_token, access_token_secret)\n",
    "api = tweepy.API(auth,wait_on_rate_limit_notify=True)\n"
   ],
   "outputs": [],
   "metadata": {}
  },
  {
   "cell_type": "code",
   "execution_count": 4,
   "source": [
    "query = (...)\n",
    "lat = ...\n",
    "long = ...\n",
    "radius = #geocode=f\"{lat},{long},{radius}km\"\n",
    "tweet_count = # total number of tweets\n",
    "tweets_per_file = 5000 # number of tweets per file\n",
    "count=0"
   ],
   "outputs": [],
   "metadata": {}
  },
  {
   "cell_type": "code",
   "execution_count": 55,
   "source": [
    "def save_tweets(tweets, count, count_tweets, tweets_per_file):\n",
    "    file_name = int(count)\n",
    "    temp = count*tweets_per_file\n",
    "    count_tweets = temp+tweets_per_file\n",
    "    if len(tweets)>= count_tweets:\n",
    "        obj = tweets[temp:(temp+tweets_per_file)]\n",
    "        with open(f'output_scrape_{file_name}.json', 'w') as fout: #set indent to 0 if don't need human readable\n",
    "            json.dump(obj, fout, indent=4)\n",
    "    elif len(tweets)< count_tweets:\n",
    "        obj = tweets[temp:]\n",
    "        with open(f'output_scrape{file_name}.json', 'w') as fout:\n",
    "            json.dump(obj, fout, indent=4)\n",
    "    if len(tweets)> count_tweets:\n",
    "        save_tweets(tweets, count+1, count_tweets, tweets_per_file)"
   ],
   "outputs": [],
   "metadata": {}
  },
  {
   "cell_type": "code",
   "execution_count": 56,
   "source": [
    "tweets = []\n",
    "try:\n",
    "    for status in tweepy.Cursor(api.search, tweet_mode='extended', q=query).items(tweet_count):\n",
    "        if (status.lang != 'en') : continue\n",
    "        tweets.append({\"text\": status.full_text,\n",
    "                       \"hashtags\": [d['text'] for d in status.entities['hashtags']],\n",
    "                       \"username\": status.user.name,\n",
    "                       \"timestamp\": status.created_at.strftime('%H:%M:%S %d/%m/%Y'),\n",
    "                       \"location\": status.coordinates[\"coordinates\"] if status.coordinates is not None\n",
    "                         else '', \n",
    "                       \"replied_to\": status.in_reply_to_screen_name if status.in_reply_to_screen_name\n",
    "                         is not None else '',\n",
    "                       \"language\": status.lang, \n",
    "                       \"verified\": status.user.verified,\n",
    "                       \"followers\": status.user.followers_count,\n",
    "                       \"friends\": status.user.friends_count,\n",
    "                       \"statuses\": status.user.statuses_count, \n",
    "                       \"retweeted\": status.retweet_count})\n",
    "except BaseException as e:\n",
    "    print('Error: ',str(e))"
   ],
   "outputs": [],
   "metadata": {}
  },
  {
   "cell_type": "code",
   "execution_count": 57,
   "source": [
    "save_tweets(tweets, count, 0, tweets_per_file)"
   ],
   "outputs": [],
   "metadata": {}
  },
  {
   "cell_type": "code",
   "execution_count": null,
   "source": [],
   "outputs": [],
   "metadata": {}
  }
 ],
 "metadata": {
  "kernelspec": {
   "display_name": "Python 3",
   "language": "python",
   "name": "python3"
  },
  "language_info": {
   "codemirror_mode": {
    "name": "ipython",
    "version": 3
   },
   "file_extension": ".py",
   "mimetype": "text/x-python",
   "name": "python",
   "nbconvert_exporter": "python",
   "pygments_lexer": "ipython3",
   "version": "3.8.5"
  }
 },
 "nbformat": 4,
 "nbformat_minor": 4
}